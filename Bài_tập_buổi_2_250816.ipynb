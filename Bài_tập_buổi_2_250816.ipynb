{
  "nbformat": 4,
  "nbformat_minor": 0,
  "metadata": {
    "colab": {
      "provenance": [],
      "collapsed_sections": [
        "s9gHAgLIIWdX",
        "ksfz70spMHo2",
        "NSsv5VvxQgcQ",
        "5cdH5qH_TGv-"
      ],
      "authorship_tag": "ABX9TyMPROgosodRSNCGd4qWjt/s",
      "include_colab_link": true
    },
    "kernelspec": {
      "name": "python3",
      "display_name": "Python 3"
    },
    "language_info": {
      "name": "python"
    }
  },
  "cells": [
    {
      "cell_type": "markdown",
      "metadata": {
        "id": "view-in-github",
        "colab_type": "text"
      },
      "source": [
        "<a href=\"https://colab.research.google.com/github/phamnguyengialinh/gialinh06.github.io/blob/gh-pages/B%C3%A0i_t%E1%BA%ADp_bu%E1%BB%95i_2_250816.ipynb\" target=\"_parent\"><img src=\"https://colab.research.google.com/assets/colab-badge.svg\" alt=\"Open In Colab\"/></a>"
      ]
    },
    {
      "cell_type": "markdown",
      "source": [
        "## CÁC THÀNH PHẦN CƠ BẢN CỦA PYTHON"
      ],
      "metadata": {
        "id": "aOb6gve7QAza"
      }
    },
    {
      "cell_type": "markdown",
      "source": [
        "### Bài tập mẫu\n"
      ],
      "metadata": {
        "id": "s9gHAgLIIWdX"
      }
    },
    {
      "cell_type": "code",
      "source": [
        "## Bài tập mẫu\n",
        "## Bài 1 In chuỗi\n",
        "print(\"Whoever is happy will make others happy too\");\n",
        "print(\"--Anne Frank\");\n"
      ],
      "metadata": {
        "colab": {
          "base_uri": "https://localhost:8080/"
        },
        "id": "vHenmKmWIlQu",
        "outputId": "80eae028-e9a3-4e97-c0a5-ddc509558081"
      },
      "execution_count": 1,
      "outputs": [
        {
          "output_type": "stream",
          "name": "stdout",
          "text": [
            "Whoever is happy will make others happy too\n",
            "--Anne Frank\n"
          ]
        }
      ]
    },
    {
      "cell_type": "code",
      "source": [
        "## Bài 2: Biểu thức\n",
        "a = int(input(\"Moi ban nhap so a: \"))\n",
        "b = int(input(\"Moi ban nhap so b: \"))\n",
        "kqCong = a + b\n",
        "kqTru = a - b\n",
        "kqNhan = a * b\n",
        "kqChiaNguyen = a // b\n",
        "kqDu= a % b\n",
        "kqChiaThuc = a / b\n",
        "print(\"Cac ket qua tinh toan: \")\n",
        "print(\"%-5d + %5d = %5d\"%(a, b, kqCong))\n",
        "print(\"%-5d - %5d = %5d\"%(a, b, kqTru))\n",
        "print(\"%-5d * %5d = %5d\"%(a, b, kqNhan))\n",
        "print(\"%-5d // %5d = %5d\"%(a, b, kqChiaNguyen))\n",
        "print(\"%-5d %% %5d = %5d\"%(a, b, kqDu))\n",
        "print(\"%-5d / %5d = %5.2f\"%(a, b, kqChiaThuc))"
      ],
      "metadata": {
        "colab": {
          "base_uri": "https://localhost:8080/"
        },
        "id": "6h813VICJJWe",
        "outputId": "916d7b97-e524-447c-8f0e-d5626d4eb11a"
      },
      "execution_count": 5,
      "outputs": [
        {
          "output_type": "stream",
          "name": "stdout",
          "text": [
            "Moi ban nhap so a: 5\n",
            "Moi ban nhap so b: 6\n",
            "Cac ket qua tinh toan: \n",
            "5     +     6 =    11\n",
            "5     -     6 =    -1\n",
            "5     *     6 =    30\n",
            "5     //     6 =     0\n",
            "5     %     6 =     5\n",
            "5     /     6 =  0.83\n"
          ]
        }
      ]
    },
    {
      "cell_type": "code",
      "source": [
        "## Bài 3: So sánh\n",
        "a = float(input(\"Moi ban nhap so a: \"))\n",
        "b = float(input(\"Moi ban nhap so b: \"))\n",
        "laNhoHon = (a < b)\n",
        "laNhoHonBang = (a <= b)\n",
        "laLonHon = (a > b)\n",
        "laLonHonBang = (a >= b)\n",
        "laBang = (a == b)\n",
        "laKhacNhau = (a != b)\n",
        "print(\"Ket qua so sanh hai so thuc %.2f va %.2f:\"%(a, b))\n",
        "print(\"%-8.2f < %8.2f: %8s\"%(a, b, laNhoHon))\n",
        "print(\"%-8.2f <= %8.2f: %8s\"%(a, b, laNhoHonBang))\n",
        "print(\"%-8.2f > %8.2f: %8s\"%(a, b, laLonHon))\n",
        "print(\"%-8.2f >= %8.2f: %8s\"%(a, b, laLonHonBang))\n",
        "print(\"%-8.2f == %8.2f: %8s\"%(a, b, laBang))\n",
        "print(\"%-8.2f != %8.2f: %8s\"%(a, b, laKhacNhau))\n"
      ],
      "metadata": {
        "colab": {
          "base_uri": "https://localhost:8080/"
        },
        "id": "h_YXuVqrKTCv",
        "outputId": "09dfd5f3-398e-4da9-9b9e-8e55cce15710"
      },
      "execution_count": 6,
      "outputs": [
        {
          "output_type": "stream",
          "name": "stdout",
          "text": [
            "Moi ban nhap so a: 2.5\n",
            "Moi ban nhap so b: 6.8\n",
            "Ket qua so sanh hai so thuc 2.50 va 6.80:\n",
            "2.50     <     6.80:     True\n",
            "2.50     <=     6.80:     True\n",
            "2.50     >     6.80:    False\n",
            "2.50     >=     6.80:    False\n",
            "2.50     ==     6.80:    False\n",
            "2.50     !=     6.80:     True\n"
          ]
        }
      ]
    },
    {
      "cell_type": "code",
      "source": [
        "## Bài 4: Hàm số\n",
        "import math\n",
        "x = float(input(\"Moi ban nhap vao gia tri cua bien so x: \"))\n",
        "fx = x + math.pow(x, 5) / (1 * 2 * 3 * 4 * 5) + \\\n",
        "math.sqrt(abs(x)) / math.pow(x, 3.0 / 2)\n",
        "print(\"Gia tri cua ham so f(%.2f) = %.2f.\"%(x, fx))"
      ],
      "metadata": {
        "colab": {
          "base_uri": "https://localhost:8080/"
        },
        "id": "9Wz2bLl6KxXP",
        "outputId": "cbcb7697-831b-4c12-d77e-419d389371e1"
      },
      "execution_count": 7,
      "outputs": [
        {
          "output_type": "stream",
          "name": "stdout",
          "text": [
            "Moi ban nhap vao gia tri cua bien so x: 2.3\n",
            "Gia tri cua ham so f(2.30) = 3.27.\n"
          ]
        }
      ]
    },
    {
      "cell_type": "code",
      "source": [
        "## Bài 5: Tổng chữ số\n",
        "import math\n",
        "n = int(input(\"Moi ban nhap so nguyen n (co bon chu so): \"))\n",
        "\n",
        "# Tách từng chữ số\n",
        "d1 = n // 1000           # chữ số hàng nghìn\n",
        "d2 = (n // 100) % 10     # chữ số hàng trăm\n",
        "d3 = (n // 10) % 10      # chữ số hàng chục\n",
        "d4 = n % 10              # chữ số hàng đơn vị\n",
        "\n",
        "# Tính tổng\n",
        "tong = d1 + d2 + d3 + d4\n",
        "\n",
        "# In kết quả theo yêu cầu\n",
        "print(f\"{n} = {d1} + {d2} + {d3} + {d4} = {tong}.\")\n"
      ],
      "metadata": {
        "colab": {
          "base_uri": "https://localhost:8080/"
        },
        "id": "rwEB7-zXLEsP",
        "outputId": "852dcb82-8a9b-4cf4-8933-5bbc908c498f"
      },
      "execution_count": 9,
      "outputs": [
        {
          "output_type": "stream",
          "name": "stdout",
          "text": [
            "Moi ban nhap so nguyen n (co bon chu so): 1234\n",
            "1234 = 1 + 2 + 3 + 4 = 10.\n"
          ]
        }
      ]
    },
    {
      "cell_type": "markdown",
      "source": [
        "### Bài tập thực hành"
      ],
      "metadata": {
        "id": "ksfz70spMHo2"
      }
    },
    {
      "cell_type": "code",
      "source": [
        "## Bài 1: In nhãn\n",
        "print(\"******************************\")\n",
        "print(\"* Truong: Dai Hoc UEH        *\")\n",
        "print(\"* Khoa: CNTT                 *\")\n",
        "print(\"* Ho ten:                    *\")\n",
        "print(\"******************************\")\n"
      ],
      "metadata": {
        "colab": {
          "base_uri": "https://localhost:8080/"
        },
        "id": "KuI1LoCFMMq2",
        "outputId": "dcd3df36-922b-45b4-fa4a-56efa966139f"
      },
      "execution_count": 10,
      "outputs": [
        {
          "output_type": "stream",
          "name": "stdout",
          "text": [
            "******************************\n",
            "* Truong: Dai Hoc UEH        *\n",
            "* Khoa: CNTT                 *\n",
            "* Ho ten:                    *\n",
            "******************************\n"
          ]
        }
      ]
    },
    {
      "cell_type": "code",
      "source": [
        "## Bài 2: Hình tròn\n",
        "# Nhập bán kính\n",
        "R = float(input(\"Nhap ban kinh R: \"))\n",
        "\n",
        "# Tính diện tích và chu vi\n",
        "S = 3.14 * R * R\n",
        "P = 2 * 3.14 * R\n",
        "\n",
        "# In kết quả với 1 số lẻ thập phân\n",
        "print(\"Dien tich S = %.1f\" % S)\n",
        "print(\"Chu vi P = %.1f\" % P)\n"
      ],
      "metadata": {
        "colab": {
          "base_uri": "https://localhost:8080/"
        },
        "id": "Jf5dWYQIMceW",
        "outputId": "75b32954-4809-4abe-9fb9-b94282624695"
      },
      "execution_count": 11,
      "outputs": [
        {
          "output_type": "stream",
          "name": "stdout",
          "text": [
            "Nhap ban kinh R: 5\n",
            "Dien tich S = 78.5\n",
            "Chu vi P = 31.4\n"
          ]
        }
      ]
    },
    {
      "cell_type": "code",
      "source": [
        "## Bài 3: Đổi sang giây\n",
        "# Nhập dữ liệu\n",
        "h = int(input(\"Nhap so gio: \"))\n",
        "m = int(input(\"Nhap so phut: \"))\n",
        "s = int(input(\"Nhap so giay: \"))\n",
        "\n",
        "# Tính tổng số giây\n",
        "tong = h * 3600 + m * 60 + s\n",
        "\n",
        "# In kết quả\n",
        "print(f\"Tong so giay cua {h}:{m}:{s} la {tong} giay\")"
      ],
      "metadata": {
        "colab": {
          "base_uri": "https://localhost:8080/"
        },
        "id": "jFUXh14qMv9j",
        "outputId": "8ac14c60-7854-4614-82cb-9583d5c98622"
      },
      "execution_count": 12,
      "outputs": [
        {
          "output_type": "stream",
          "name": "stdout",
          "text": [
            "Nhap so gio: 1\n",
            "Nhap so phut: 20\n",
            "Nhap so giay: 10\n",
            "Tong so giay cua 1:20:10 la 4810 giay\n"
          ]
        }
      ]
    },
    {
      "cell_type": "code",
      "source": [
        "## Bài 4: Đổi sang giờ phút giây\n",
        "t = int(input(\"Nhap vao tong so giay: \"))\n",
        "\n",
        "h = t // 3600\n",
        "m = (t % 3600) // 60\n",
        "s = t % 60\n",
        "\n",
        "print(f\"{t} giay co dang {h}:{m}:{s}\")"
      ],
      "metadata": {
        "colab": {
          "base_uri": "https://localhost:8080/"
        },
        "id": "-zr1Pw9iNMIj",
        "outputId": "706fcea5-e207-419c-9dd3-67d5109d7d80"
      },
      "execution_count": 13,
      "outputs": [
        {
          "output_type": "stream",
          "name": "stdout",
          "text": [
            "Nhap vao tong so giay: 4810\n",
            "4810 giay co dang 1:20:10\n"
          ]
        }
      ]
    },
    {
      "cell_type": "code",
      "source": [
        "## Bài 5: Tính diện tích tam giác theo Heron\n",
        "import math\n",
        "\n",
        "# Nhập 3 cạnh\n",
        "a = float(input(\"Nhap do dai canh a: \"))\n",
        "b = float(input(\"Nhap do dai canh b: \"))\n",
        "c = float(input(\"Nhap do dai canh c: \"))\n",
        "\n",
        "# Nửa chu vi\n",
        "p = (a + b + c) / 2\n",
        "\n",
        "# Công thức Heron\n",
        "S = math.sqrt(p * (p - a) * (p - b) * (p - c))\n",
        "\n",
        "# In kết quả 2 chữ số thập phân\n",
        "print(\"Dien tich tam giac S = %.2f\" % S)\n"
      ],
      "metadata": {
        "colab": {
          "base_uri": "https://localhost:8080/"
        },
        "id": "infPBojwNxtR",
        "outputId": "524ae317-111f-40ba-d122-42b37c724aeb"
      },
      "execution_count": 14,
      "outputs": [
        {
          "output_type": "stream",
          "name": "stdout",
          "text": [
            "Nhap do dai canh a: 2\n",
            "Nhap do dai canh b: 4\n",
            "Nhap do dai canh c: 3\n",
            "Dien tich tam giac S = 2.90\n"
          ]
        }
      ]
    },
    {
      "cell_type": "code",
      "source": [
        "## Bài 6: Hàm mũ\n",
        "# Nhập a và số mũ n\n",
        "a = float(input(\"Nhap so thuc a: \"))\n",
        "n = int(input(\"Nhap so mu n: \"))\n",
        "\n",
        "# Tính a^n\n",
        "ketqua = a ** n\n",
        "\n",
        "# In kết quả\n",
        "print(f\"Ket qua {a}^{n} = {ketqua}\")"
      ],
      "metadata": {
        "colab": {
          "base_uri": "https://localhost:8080/"
        },
        "id": "thOAlAZYN9ZU",
        "outputId": "36cedc6e-3f9f-48b5-c5b0-8acec81ebbbf"
      },
      "execution_count": 15,
      "outputs": [
        {
          "output_type": "stream",
          "name": "stdout",
          "text": [
            "Nhap so thuc a: 2\n",
            "Nhap so mu n: 4\n",
            "Ket qua 2.0^4 = 16.0\n"
          ]
        }
      ]
    },
    {
      "cell_type": "code",
      "source": [
        "## Bài 7: Đảo số\n",
        "# Nhập số nguyên 4 chữ số\n",
        "x = int(input(\"Nhap so nguyen x (4 chu so): \"))\n",
        "\n",
        "# Đảo số bằng cách chuyển thành chuỗi rồi đảo ngược\n",
        "y = int(str(x)[::-1])\n",
        "\n",
        "print(f\"So dao cua {x} la {y}\")"
      ],
      "metadata": {
        "colab": {
          "base_uri": "https://localhost:8080/"
        },
        "id": "kMZhsy_JOKse",
        "outputId": "47550794-81d1-4673-c0cb-1436b8de026b"
      },
      "execution_count": 16,
      "outputs": [
        {
          "output_type": "stream",
          "name": "stdout",
          "text": [
            "Nhap so nguyen x (4 chu so): 1234\n",
            "So dao cua 1234 la 4321\n"
          ]
        }
      ]
    },
    {
      "cell_type": "code",
      "source": [
        "## Bài 8: Đổi độ sang Radian\n",
        "import math\n",
        "do = float(input(\"Nhap goc (do): \"))\n",
        "\n",
        "\n",
        "radian = do * math.pi / 180\n",
        "\n",
        "print(f\"{do} do = {radian:.4f} radian\")"
      ],
      "metadata": {
        "colab": {
          "base_uri": "https://localhost:8080/"
        },
        "id": "CYrNXgxZO-8l",
        "outputId": "2b3d616c-1424-4c9b-a417-ddbad7798f41"
      },
      "execution_count": 17,
      "outputs": [
        {
          "output_type": "stream",
          "name": "stdout",
          "text": [
            "Nhap goc (do): 180\n",
            "180.0 do = 3.1416 radian\n"
          ]
        }
      ]
    },
    {
      "cell_type": "code",
      "source": [
        "## Bài 9: Hàm số 1\n",
        "import math\n",
        "\n",
        "x = float(input(\"Nhap so thuc x: \"))\n",
        "\n",
        "\n",
        "y1 = 4 * (x**2 + 10*math.sqrt(x) + 3*x + 1)\n",
        "y2 = (math.sin(math.pi**2) + math.sqrt(x**2 + 1)) / (math.exp(2*x) + math.cos(math.pi/4))\n",
        "\n",
        "print(f\"y1 = {y1:.2f}\")\n",
        "print(f\"y2 = {y2:.2f}\")\n"
      ],
      "metadata": {
        "colab": {
          "base_uri": "https://localhost:8080/"
        },
        "id": "zRyJElXCPKov",
        "outputId": "88014d1c-74df-465e-a5dc-45fa667eba40"
      },
      "execution_count": 18,
      "outputs": [
        {
          "output_type": "stream",
          "name": "stdout",
          "text": [
            "Nhap so thuc x: 7\n",
            "y1 = 389.83\n",
            "y2 = 0.00\n"
          ]
        }
      ]
    },
    {
      "cell_type": "code",
      "source": [
        "## Bài 10: Khoảng cách\n",
        "import math\n",
        "\n",
        "x1, y1 = map(float, input(\"Nhap toa do diem A (x1 y1): \").split())\n",
        "x2, y2 = map(float, input(\"Nhap toa do diem B (x2 y2): \").split())\n",
        "\n",
        "d = math.sqrt((x2 - x1)**2 + (y2 - y1)**2)\n",
        "\n",
        "print(f\"Khoang cach giua A({x1},{y1}) va B({x2},{y2}) la {d:.2f}\")"
      ],
      "metadata": {
        "colab": {
          "base_uri": "https://localhost:8080/"
        },
        "id": "OUfiptdqPvBF",
        "outputId": "316f5d25-9318-4e15-d894-974a0566c689"
      },
      "execution_count": 19,
      "outputs": [
        {
          "output_type": "stream",
          "name": "stdout",
          "text": [
            "Nhap toa do diem A (x1 y1): 2 3\n",
            "Nhap toa do diem B (x2 y2): 4 7\n",
            "Khoang cach giua A(2.0,3.0) va B(4.0,7.0) la 4.47\n"
          ]
        }
      ]
    },
    {
      "cell_type": "markdown",
      "source": [
        "## CẤU TRÚC ĐIỀU KIỆN"
      ],
      "metadata": {
        "id": "0sXjlyhDQTqt"
      }
    },
    {
      "cell_type": "markdown",
      "source": [
        "### Bài tập trên lớp\n"
      ],
      "metadata": {
        "id": "NSsv5VvxQgcQ"
      }
    },
    {
      "cell_type": "code",
      "source": [
        "## Bài 1: Max3Num\n",
        "# Input a, b, c\n",
        "a = int(input())\n",
        "b = int(input())\n",
        "c = int(input())\n",
        "# max a, b, c\n",
        "def max_fn(a, b):\n",
        " return a if a > b else b\n",
        "vmax = max_fn(a, b)\n",
        "vmax = max_fn(vmax, c)\n",
        "# output\n",
        "print(\"Max(%d, %d, %d) = %d\"%(a, b, c, vmax))"
      ],
      "metadata": {
        "colab": {
          "base_uri": "https://localhost:8080/"
        },
        "id": "vEp4oJ68QbgP",
        "outputId": "8d644793-e36e-4b29-daa6-218c141bf1de"
      },
      "execution_count": 24,
      "outputs": [
        {
          "output_type": "stream",
          "name": "stdout",
          "text": [
            "2\n",
            "4\n",
            "5\n",
            "Max(2, 4, 5) = 5\n"
          ]
        }
      ]
    },
    {
      "cell_type": "code",
      "source": [
        "## Bài 2: Sort3Num\n",
        "a = int(input())\n",
        "b = int(input())\n",
        "c = int(input())\n",
        "\n",
        "# Đưa vào list rồi sort\n",
        "nums = [a, b, c]\n",
        "nums.sort()\n",
        "\n",
        "# Output\n",
        "print(nums[0], nums[1], nums[2])\n"
      ],
      "metadata": {
        "colab": {
          "base_uri": "https://localhost:8080/"
        },
        "id": "rMCAmpAZReo9",
        "outputId": "66922e20-4e82-450e-9506-dba19d218759"
      },
      "execution_count": 26,
      "outputs": [
        {
          "output_type": "stream",
          "name": "stdout",
          "text": [
            "2\n",
            "3\n",
            "6\n",
            "2 3 6\n"
          ]
        }
      ]
    },
    {
      "cell_type": "markdown",
      "source": [
        "### Bài tập thêm\n"
      ],
      "metadata": {
        "id": "5cdH5qH_TGv-"
      }
    },
    {
      "cell_type": "code",
      "source": [
        "## Bài 1: MaxMin5\n",
        "a = int(input(\"Nhập a: \"))\n",
        "b = int(input(\"Nhập b: \"))\n",
        "c = int(input(\"Nhập c: \"))\n",
        "d = int(input(\"Nhập d: \"))\n",
        "e = int(input(\"Nhập e: \"))\n",
        "\n",
        "# Process\n",
        "numbers = [a, b, c, d, e]\n",
        "vmin = min(numbers)\n",
        "vmax = max(numbers)\n",
        "\n",
        "# Output\n",
        "print(vmin, vmax)\n"
      ],
      "metadata": {
        "colab": {
          "base_uri": "https://localhost:8080/"
        },
        "id": "v-hCbeuTTI1Q",
        "outputId": "47dca2e5-0be5-4e40-8aa7-65e57f1aa5d5"
      },
      "execution_count": 27,
      "outputs": [
        {
          "output_type": "stream",
          "name": "stdout",
          "text": [
            "Nhập a: 2\n",
            "Nhập b: 3\n",
            "Nhập c: 4\n",
            "Nhập d: 7\n",
            "Nhập e: 8\n",
            "2 8\n"
          ]
        }
      ]
    },
    {
      "cell_type": "code",
      "source": [
        "## Bài 2: SolvQuadEq.py\n",
        "import math\n",
        "\n",
        "# Input\n",
        "a = float(input(\"Nhập a: \"))\n",
        "b = float(input(\"Nhập b: \"))\n",
        "c = float(input(\"Nhập c: \"))\n",
        "\n",
        "# Process\n",
        "if a == 0 and b == 0 and c == 0:\n",
        "    print(\"Unlimited solutions\")\n",
        "elif a == 0 and b == 0:\n",
        "    print(\"No solution\")\n",
        "elif a == 0:\n",
        "    x = -c / b\n",
        "    print(\"x1=%.2f\" % x)\n",
        "else:\n",
        "    delta = b**2 - 4*a*c\n",
        "    if delta < 0:\n",
        "        print(\"No solution\")\n",
        "    elif delta == 0:\n",
        "        x = -b / (2*a)\n",
        "        print(\"x1=%.2f\" % x)\n",
        "    else:\n",
        "        x1 = (-b - math.sqrt(delta)) / (2*a)\n",
        "        x2 = (-b + math.sqrt(delta)) / (2*a)\n",
        "        print(\"x1=%.2f, x2=%.2f\" % (x1, x2))\n"
      ],
      "metadata": {
        "colab": {
          "base_uri": "https://localhost:8080/"
        },
        "id": "j3f1KSvXTnJr",
        "outputId": "3f1021bd-87c7-4b1b-a690-248fa7183e08"
      },
      "execution_count": 29,
      "outputs": [
        {
          "output_type": "stream",
          "name": "stdout",
          "text": [
            "Nhập a: 1\n",
            "Nhập b: -5\n",
            "Nhập c: 6\n",
            "x1=2.00, x2=3.00\n"
          ]
        }
      ]
    },
    {
      "cell_type": "code",
      "source": [
        "## Bài 3: TotalDayMonth.py\n",
        "# Input\n",
        "m = int(input(\"Nhập tháng: \"))\n",
        "y = int(input(\"Nhập năm: \"))\n",
        "\n",
        "# Process\n",
        "def isleap(year):\n",
        "    return (year % 400 == 0) or (year % 4 == 0 and year % 100 != 0)\n",
        "\n",
        "days = 31\n",
        "if m in [4, 6, 9, 11]:\n",
        "    days = 30\n",
        "elif m == 2:\n",
        "    if isleap(y):\n",
        "        days = 29\n",
        "    else:\n",
        "        days = 28\n",
        "\n",
        "# Output\n",
        "print(days)"
      ],
      "metadata": {
        "colab": {
          "base_uri": "https://localhost:8080/"
        },
        "id": "-UzqNKbvUDfP",
        "outputId": "16f263cf-cd2f-4fda-d9dd-b2f7994a5ace"
      },
      "execution_count": 30,
      "outputs": [
        {
          "output_type": "stream",
          "name": "stdout",
          "text": [
            "Nhập tháng: 5\n",
            "Nhập năm: 2018\n",
            "31\n"
          ]
        }
      ]
    }
  ]
}